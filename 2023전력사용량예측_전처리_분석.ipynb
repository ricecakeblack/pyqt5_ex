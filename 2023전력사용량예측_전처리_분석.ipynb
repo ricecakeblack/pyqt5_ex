{
  "nbformat": 4,
  "nbformat_minor": 0,
  "metadata": {
    "colab": {
      "private_outputs": true,
      "provenance": [],
      "authorship_tag": "ABX9TyO545zhOvgv5G7USzcG/6F7",
      "include_colab_link": true
    },
    "kernelspec": {
      "name": "python3",
      "display_name": "Python 3"
    },
    "language_info": {
      "name": "python"
    }
  },
  "cells": [
    {
      "cell_type": "markdown",
      "metadata": {
        "id": "view-in-github",
        "colab_type": "text"
      },
      "source": [
        "<a href=\"https://colab.research.google.com/github/ricecakeblack/pyqt5_ex/blob/main/2023%EC%A0%84%EB%A0%A5%EC%82%AC%EC%9A%A9%EB%9F%89%EC%98%88%EC%B8%A1_%EC%A0%84%EC%B2%98%EB%A6%AC_%EB%B6%84%EC%84%9D.ipynb\" target=\"_parent\"><img src=\"https://colab.research.google.com/assets/colab-badge.svg\" alt=\"Open In Colab\"/></a>"
      ]
    },
    {
      "cell_type": "code",
      "execution_count": null,
      "metadata": {
        "id": "1I1C3ZclQLxy"
      },
      "outputs": [],
      "source": [
        "from google.colab import drive\n",
        "drive.mount('/content/drive')"
      ]
    },
    {
      "cell_type": "code",
      "source": [
        "!sudo apt-get install -y fonts-nanum\n",
        "!sudo fc-cache -fv\n",
        "!rm ~/.cache/matplotlib -rf"
      ],
      "metadata": {
        "id": "ch2OGoqZQPEK"
      },
      "execution_count": null,
      "outputs": []
    },
    {
      "cell_type": "code",
      "source": [
        "import matplotlib.pyplot as plt\n",
        "\n",
        "plt.rc('font', family='NanumBarunGothic')"
      ],
      "metadata": {
        "id": "hhilDsgbQQkJ"
      },
      "execution_count": null,
      "outputs": []
    },
    {
      "cell_type": "code",
      "source": [
        "trainPath = '/content/drive/MyDrive/구글클라우드/수업(코드)/Pandas/ds/2023전력사용량예측/train1.csv'\n",
        "testPath = '/content/drive/MyDrive/구글클라우드/수업(코드)/Pandas/ds/2023전력사용량예측/building_info1.csv'\n",
        "buildingPath = '/content/drive/MyDrive/구글클라우드/수업(코드)/Pandas/ds/2023전력사용량예측/building_info1.csv'"
      ],
      "metadata": {
        "id": "1Z3R0u8sQY35"
      },
      "execution_count": null,
      "outputs": []
    },
    {
      "cell_type": "code",
      "source": [
        "import pandas as pd\n",
        "import numpy as np\n",
        "import os\n"
      ],
      "metadata": {
        "id": "s1wbihQnQicb"
      },
      "execution_count": null,
      "outputs": []
    },
    {
      "cell_type": "code",
      "source": [
        "train_df = pd.read_csv(trainPath)\n",
        "test_df = pd.read_csv(testPath)\n",
        "building_df = pd.read_csv(buildingPath)"
      ],
      "metadata": {
        "id": "Dil3evx9QlbC"
      },
      "execution_count": null,
      "outputs": []
    },
    {
      "cell_type": "code",
      "source": [
        "train_df.head()"
      ],
      "metadata": {
        "id": "llD0sQk-SZHP"
      },
      "execution_count": null,
      "outputs": []
    },
    {
      "cell_type": "code",
      "source": [
        "train_df.info()"
      ],
      "metadata": {
        "id": "jrqmxQUJSdeo"
      },
      "execution_count": null,
      "outputs": []
    },
    {
      "cell_type": "code",
      "source": [
        "pd.unique(train_df[\"강수량(mm)\"])"
      ],
      "metadata": {
        "id": "0GmOmsjoSlLx"
      },
      "execution_count": null,
      "outputs": []
    },
    {
      "cell_type": "code",
      "source": [
        "train_df['강수량(mm)'].fillna(0, inplace = True)"
      ],
      "metadata": {
        "id": "TZDGYq8cTINw"
      },
      "execution_count": null,
      "outputs": []
    },
    {
      "cell_type": "code",
      "source": [
        "#isnull().sum()로 True의 갯수를 카운트 해준다. (결측치의 갯수 확인)\n",
        "train_df['강수량(mm)'].isnull().sum()"
      ],
      "metadata": {
        "id": "1ehqki9lTnCw"
      },
      "execution_count": null,
      "outputs": []
    },
    {
      "cell_type": "code",
      "source": [
        "pd.unique(train_df[\"풍속(m/s)\"])"
      ],
      "metadata": {
        "id": "4B-Qto7xUBvJ"
      },
      "execution_count": null,
      "outputs": []
    },
    {
      "cell_type": "code",
      "source": [
        "#결측치를 잘 넣는 방법\n",
        "print(len(pd.unique(train_df['건물번호'])))\n",
        "pd.unique(train_df['건물번호'])"
      ],
      "metadata": {
        "id": "2UHt2EOCUWLw"
      },
      "execution_count": null,
      "outputs": []
    },
    {
      "cell_type": "code",
      "source": [
        "train_df[train_df[\"풍속(m/s)\"].isnull()]"
      ],
      "metadata": {
        "id": "HCVbEGVmUiSy"
      },
      "execution_count": null,
      "outputs": []
    },
    {
      "cell_type": "code",
      "source": [
        "pd.__version__"
      ],
      "metadata": {
        "id": "5iX1es3vWcA3"
      },
      "execution_count": null,
      "outputs": []
    },
    {
      "cell_type": "code",
      "source": [
        "# datetime 타입으로 변경\n",
        "date = pd.to_datetime(train_df['일시'])\n",
        "type(date) #pandas.core.series.Series\n",
        "train_df['hour'] = date.dt.hour\n",
        "train_df['year'] = date.dt.year\n",
        "train_df['month'] = date.dt.month\n",
        "train_df['day'] = date.dt.day\n",
        "train_df['weekday'] = date.dt.weekday\n",
        "#train_df['week'] = date.dt.isocalendar().weekday #최신버전에서는 삭제되었음\n",
        "train_df['week'] = date.dt.isocalendar().week\n",
        "train_df.head()"
      ],
      "metadata": {
        "id": "tB0begjcVdWO"
      },
      "execution_count": null,
      "outputs": []
    },
    {
      "cell_type": "code",
      "source": [
        "train_df[(train_df['건물번호']==9) & (train_df['month']==6) & (train_df['hour']==11)]"
      ],
      "metadata": {
        "id": "ZpnglvJeUrTr"
      },
      "execution_count": null,
      "outputs": []
    },
    {
      "cell_type": "code",
      "source": [
        "train_df[(train_df['건물번호']==9) & (train_df['month']==6) & (train_df['hour']==11)]['풍속(m/s)'].mean()"
      ],
      "metadata": {
        "id": "9kqlBTqOXcSa"
      },
      "execution_count": null,
      "outputs": []
    },
    {
      "cell_type": "code",
      "source": [
        "mean =train_df[(train_df['건물번호']==9) & (train_df['month']==6) & (train_df['hour']==11)]['풍속(m/s)'].mean()"
      ],
      "metadata": {
        "id": "BPMB4mlKXksP"
      },
      "execution_count": null,
      "outputs": []
    },
    {
      "cell_type": "code",
      "source": [
        "for i in train_df[train_df['풍속(m/s)'].isnull()].index:\n",
        "    month = train_df.iloc[i]['month']\n",
        "    hour = train_df.iloc[i]['hour']\n",
        "    num = train_df.iloc[i]['건물번호']\n",
        "    data_mean = train_df[(train_df['건물번호']==num)&(train_df['month']==month)&(train_df['hour']==hour)]['풍속(m/s)'].mean()\n",
        "    train_df.loc[i,'풍속(m/s)'] = data_mean"
      ],
      "metadata": {
        "id": "RsM1ejFtX81m"
      },
      "execution_count": null,
      "outputs": []
    },
    {
      "cell_type": "code",
      "source": [
        "#결측치의 갯수 확인\n",
        "train_df['풍속(m/s')].isnull().sum()"
      ],
      "metadata": {
        "id": "OnGHjTEcZhM_"
      },
      "execution_count": null,
      "outputs": []
    },
    {
      "cell_type": "code",
      "source": [],
      "metadata": {
        "id": "TDx9BhtGZp1B"
      },
      "execution_count": null,
      "outputs": []
    }
  ]
}